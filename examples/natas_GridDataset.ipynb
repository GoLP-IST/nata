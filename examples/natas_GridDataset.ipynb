{
 "cells": [
  {
   "cell_type": "markdown",
   "metadata": {},
   "source": [
    "# `GridDataset`\n",
    "\n",
    "Nata represents grids through the `GridDataset` object. The next section discusses the API of `GridDataset`, how to create `GridDataset`, and the basic properties of those objects.\n",
    "\n",
    "`GridDataset` can be imported from the containers module of nata"
   ]
  },
  {
   "cell_type": "code",
   "execution_count": 1,
   "metadata": {},
   "outputs": [],
   "source": [
    "from nata.containers import GridDataset"
   ]
  },
  {
   "cell_type": "markdown",
   "metadata": {},
   "source": [
    "## Creating `GridDatasets`\n",
    "\n",
    "### Using array-like objects\n",
    "\n",
    "Creating a `GridDataset` container from an array-like object can be done through the class method `GridDataset.from_array`."
   ]
  },
  {
   "cell_type": "code",
   "execution_count": 3,
   "metadata": {},
   "outputs": [
    {
     "output_type": "execute_result",
     "data": {
      "text/plain": [
       "GridDataset(name='unnamed', label='unnamed', unit='', shape=(4,), iteration=0, time=0.0, grid_axes=[Axis('axis0', len=1, shape=(4,))])"
      ]
     },
     "metadata": {},
     "execution_count": 3
    }
   ],
   "source": [
    "grid = GridDataset.from_array([1, 2, 3, 4])\n",
    "grid"
   ]
  },
  {
   "cell_type": "code",
   "execution_count": 3,
   "metadata": {},
   "outputs": [
    {
     "data": {
      "text/plain": [
       "['__abs__',\n",
       " '__add__',\n",
       " '__and__',\n",
       " '__annotations__',\n",
       " '__array__',\n",
       " '__array_function__',\n",
       " '__array_ufunc__',\n",
       " '__class__',\n",
       " '__delattr__',\n",
       " '__dict__',\n",
       " '__dir__',\n",
       " '__divmod__',\n",
       " '__doc__',\n",
       " '__eq__',\n",
       " '__floordiv__',\n",
       " '__format__',\n",
       " '__ge__',\n",
       " '__getattribute__',\n",
       " '__getitem__',\n",
       " '__gt__',\n",
       " '__hash__',\n",
       " '__iadd__',\n",
       " '__iand__',\n",
       " '__ifloordiv__',\n",
       " '__ilshift__',\n",
       " '__imatmul__',\n",
       " '__imod__',\n",
       " '__imul__',\n",
       " '__init__',\n",
       " '__init_subclass__',\n",
       " '__invert__',\n",
       " '__ior__',\n",
       " '__ipow__',\n",
       " '__irshift__',\n",
       " '__isub__',\n",
       " '__itruediv__',\n",
       " '__ixor__',\n",
       " '__le__',\n",
       " '__len__',\n",
       " '__lshift__',\n",
       " '__lt__',\n",
       " '__matmul__',\n",
       " '__mod__',\n",
       " '__module__',\n",
       " '__mul__',\n",
       " '__ne__',\n",
       " '__neg__',\n",
       " '__new__',\n",
       " '__or__',\n",
       " '__pos__',\n",
       " '__pow__',\n",
       " '__radd__',\n",
       " '__rand__',\n",
       " '__rdivmod__',\n",
       " '__reduce__',\n",
       " '__reduce_ex__',\n",
       " '__repr__',\n",
       " '__rfloordiv__',\n",
       " '__rlshift__',\n",
       " '__rmatmul__',\n",
       " '__rmod__',\n",
       " '__rmul__',\n",
       " '__ror__',\n",
       " '__rpow__',\n",
       " '__rrshift__',\n",
       " '__rshift__',\n",
       " '__rsub__',\n",
       " '__rtruediv__',\n",
       " '__rxor__',\n",
       " '__setattr__',\n",
       " '__setitem__',\n",
       " '__sizeof__',\n",
       " '__str__',\n",
       " '__sub__',\n",
       " '__subclasshook__',\n",
       " '__truediv__',\n",
       " '__weakref__',\n",
       " '__xor__',\n",
       " '_axes',\n",
       " '_backend',\n",
       " '_backends',\n",
       " '_data',\n",
       " '_handled_array_function',\n",
       " '_handled_ufuncs',\n",
       " '_label',\n",
       " '_locations',\n",
       " '_name',\n",
       " '_repr_html_',\n",
       " '_unit',\n",
       " '_unpack_backend',\n",
       " 'add_backend',\n",
       " 'append',\n",
       " 'as_dask',\n",
       " 'as_numpy',\n",
       " 'axes',\n",
       " 'backend',\n",
       " 'data',\n",
       " 'dtype',\n",
       " 'fft',\n",
       " 'from_array',\n",
       " 'from_path',\n",
       " 'get_backends',\n",
       " 'get_valid_backend',\n",
       " 'grid_ndim',\n",
       " 'grid_shape',\n",
       " 'info',\n",
       " 'is_equiv_to',\n",
       " 'is_valid_backend',\n",
       " 'label',\n",
       " 'lineout',\n",
       " 'locations',\n",
       " 'name',\n",
       " 'ndim',\n",
       " 'plot',\n",
       " 'plot_data',\n",
       " 'plot_type',\n",
       " 'register_plugin',\n",
       " 'remove_backend',\n",
       " 'shape',\n",
       " 'temporal_steps',\n",
       " 'unit']"
      ]
     },
     "execution_count": 3,
     "metadata": {},
     "output_type": "execute_result"
    }
   ],
   "source": [
    "dir(grid)"
   ]
  },
  {
   "cell_type": "markdown",
   "metadata": {},
   "source": [
    "### General information\n",
    "\n",
    "As seen in above example, `grid_ds` is a `GridDataset` which stores additional informations about an array-like structure without further specification. It provides information like `name` and `label` which are by default `unnamed`."
   ]
  },
  {
   "cell_type": "code",
   "execution_count": 4,
   "metadata": {
    "tags": []
   },
   "outputs": [
    {
     "ename": "NameError",
     "evalue": "name 'grid_ds' is not defined",
     "output_type": "error",
     "traceback": [
      "\u001b[0;31m---------------------------------------------------------------------------\u001b[0m",
      "\u001b[0;31mNameError\u001b[0m                                 Traceback (most recent call last)",
      "\u001b[0;32m<ipython-input-4-935c11941153>\u001b[0m in \u001b[0;36m<module>\u001b[0;34m\u001b[0m\n\u001b[0;32m----> 1\u001b[0;31m \u001b[0mprint\u001b[0m\u001b[0;34m(\u001b[0m\u001b[0;34mf\"{grid_ds.name  = }\"\u001b[0m\u001b[0;34m)\u001b[0m\u001b[0;34m\u001b[0m\u001b[0;34m\u001b[0m\u001b[0m\n\u001b[0m\u001b[1;32m      2\u001b[0m \u001b[0mprint\u001b[0m\u001b[0;34m(\u001b[0m\u001b[0;34mf\"{grid_ds.label = }\"\u001b[0m\u001b[0;34m)\u001b[0m\u001b[0;34m\u001b[0m\u001b[0;34m\u001b[0m\u001b[0m\n\u001b[1;32m      3\u001b[0m \u001b[0mprint\u001b[0m\u001b[0;34m(\u001b[0m\u001b[0;34mf\"{grid_ds.unit  = }\"\u001b[0m\u001b[0;34m)\u001b[0m\u001b[0;34m\u001b[0m\u001b[0;34m\u001b[0m\u001b[0m\n",
      "\u001b[0;31mNameError\u001b[0m: name 'grid_ds' is not defined"
     ]
    }
   ],
   "source": [
    "print(f\"{grid_ds.name  = }\")\n",
    "print(f\"{grid_ds.label = }\")\n",
    "print(f\"{grid_ds.unit  = }\")"
   ]
  },
  {
   "cell_type": "markdown",
   "metadata": {},
   "source": [
    "These properties can be simple change by setting new values."
   ]
  },
  {
   "cell_type": "code",
   "execution_count": null,
   "metadata": {
    "tags": []
   },
   "outputs": [],
   "source": [
    "grid_ds.name = \"new_name\"\n",
    "grid_ds.label = \"new label\"\n",
    "grid_ds.unit = \"some unit\"\n",
    "\n",
    "print(f\"{grid_ds.name  = }\")\n",
    "print(f\"{grid_ds.label = }\")\n",
    "print(f\"{grid_ds.unit  = }\")\n"
   ]
  },
  {
   "cell_type": "markdown",
   "metadata": {},
   "source": [
    "### Array properties \n",
    "\n",
    "<div class=\"alert alert-block alert-info\">\n",
    "Any reference to an array assumes numpy like arrays.\n",
    "</div>\n",
    "\n",
    "Each `GridDataset` acts as it would be an array by providing common array properties. This properties are read-only and can be modified by array functions, e.g., `np.reshape`."
   ]
  },
  {
   "cell_type": "code",
   "execution_count": null,
   "metadata": {
    "tags": []
   },
   "outputs": [],
   "source": [
    "print(f\"{grid_ds.shape = }\")\n",
    "print(f\"{grid_ds.ndim  = }\")\n",
    "print(f\"{grid_ds.dtype = }\")"
   ]
  },
  {
   "cell_type": "markdown",
   "metadata": {},
   "source": [
    "In addition to the array properties, "
   ]
  },
  {
   "cell_type": "markdown",
   "metadata": {},
   "source": [
    "Also an extra information about the unit for `GridDataset` and by default it is empty. However, it behaves similar to a numpy array by providing properties like `.shape`, `.ndim` and `.dtype`."
   ]
  },
  {
   "cell_type": "markdown",
   "metadata": {
    "tags": []
   },
   "source": [
    "\n",
    "\n",
    "In general, a `GridDataset` is expected to behave like an array."
   ]
  },
  {
   "cell_type": "code",
   "execution_count": null,
   "metadata": {},
   "outputs": [],
   "source": [
    "import matplotlib.pyplot as plt\n",
    "\n",
    "plt.plot(grid_ds)\n",
    "#plt.plot(grid_ds + 3)\n",
    "#plt.plot(np.sqrt(grid_ds ** 2.0))"
   ]
  },
  {
   "cell_type": "code",
   "execution_count": null,
   "metadata": {},
   "outputs": [],
   "source": [
    "test = \"blub\"\n",
    "(\"Hallo \" \"Swen!\" \" <3\" test)"
   ]
  },
  {
   "cell_type": "code",
   "execution_count": null,
   "metadata": {},
   "outputs": [],
   "source": [
    "test = (\"Hallo \" \"Welt\")\n",
    "test"
   ]
  },
  {
   "cell_type": "code",
   "execution_count": null,
   "metadata": {},
   "outputs": [],
   "source": [
    "t1 = True\n",
    "t2 = False\n",
    "t3 = True\n",
    "\n",
    "t1 + t2 + t3"
   ]
  },
  {
   "cell_type": "code",
   "execution_count": null,
   "metadata": {},
   "outputs": [],
   "source": [
    "0 % 7"
   ]
  },
  {
   "cell_type": "code",
   "execution_count": null,
   "metadata": {},
   "outputs": [],
   "source": []
  }
 ],
 "metadata": {
  "kernelspec": {
   "display_name": "Python 3",
   "language": "python",
   "name": "python3"
  },
  "language_info": {
   "codemirror_mode": {
    "name": "ipython",
    "version": 3
   },
   "file_extension": ".py",
   "mimetype": "text/x-python",
   "name": "python",
   "nbconvert_exporter": "python",
   "pygments_lexer": "ipython3",
   "version": "3.8.2-final"
  }
 },
 "nbformat": 4,
 "nbformat_minor": 4
}
