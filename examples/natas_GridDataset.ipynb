{
 "cells": [
  {
   "cell_type": "code",
   "execution_count": 1,
   "metadata": {},
   "outputs": [],
   "source": [
    "%load_ext autoreload\n",
    "%autoreload 2"
   ]
  },
  {
   "cell_type": "markdown",
   "metadata": {},
   "source": [
    "# GridDataset\n",
    "\n",
    "Nata represents grids by the `GridDataset` container which can be imported by running"
   ]
  },
  {
   "cell_type": "code",
   "execution_count": 2,
   "metadata": {},
   "outputs": [],
   "source": [
    "import sys\n",
    "\n",
    "import numpy as np\n",
    "\n",
    "from nata.containers import GridDataset\n",
    "from nata.containers.GridDataset import GridDatasetAxes\n",
    "from nata.axes import Axis"
   ]
  },
  {
   "cell_type": "markdown",
   "metadata": {},
   "source": [
    "The next sections discuss the API of `GridDataset`, how to create a grid using the `GridDataset` class, and the basic properties of those objects. In the following, any reference to a grid refers to a instance while `GridDataset` represent the class definition."
   ]
  },
  {
   "cell_type": "markdown",
   "metadata": {},
   "source": [
    "## Note on grids\n",
    "\n",
    "Nata has two ways to create a grid, using an array-like object or from an path as the basis. The creation of a grid from an array is a common way to enrich a general numpy array, a dask array, or any array like object with the functionality nata adds on top of arrays. It is also the recommended way to create an grid object.\n",
    "\n",
    "<div class=\"alert alert-block alert-warning\">\n",
    "    Grid objects can be created by calling <code>GridDataset(...)</code> and instantiating it from the class object directly. This use is discouraged and is recommended for advanced users only.\n",
    "</div>\n",
    "\n",
    "## Using array-like objects\n",
    "\n",
    "Creating a grid from an array-like object can be done by calling the class method `GridDataset.from_array`"
   ]
  },
  {
   "cell_type": "code",
   "execution_count": 3,
   "metadata": {},
   "outputs": [
    {
     "data": {
      "text/html": [
       "<div>GridDataset:</div><table style='margin-left: 1rem;'><tr><td style='font-weight: bold; text-align: left;'>name</td><td style='text-align: left;'>unnamed</td></tr><tr><td style='font-weight: bold; text-align: left;'>label</td><td style='text-align: left;'>unlabeled</td></tr><tr><td style='font-weight: bold; text-align: left;'>unit</td><td style='text-align: left;'>''</td></tr><tr><td style='font-weight: bold; text-align: left;'>backend</td><td style='text-align: left;'>None</td></tr></table><details><summary>Grid Properties</summary><table style='margin-left: 1rem;'><tr><td style='font-weight: bold; text-align: left;'>grid_ndim</td><td style='text-align: left;'>2</td></tr><tr><td style='font-weight: bold; text-align: left;'>grid_shape</td><td style='text-align: left;'>(2, 3)</td></tr><tr><td style='font-weight: bold; text-align: left;'>axes</td><td style='text-align: left;'>axis0, axis1</td></tr></table></details><details><summary>Array Properties</summary><table style='margin-left: 1rem;'><tr><td style='font-weight: bold; text-align: left;'>ndim</td><td style='text-align: left;'>2</td></tr><tr><td style='font-weight: bold; text-align: left;'>shape</td><td style='text-align: left;'>(2, 3)</td></tr><tr><td style='font-weight: bold; text-align: left;'>dtype</td><td style='text-align: left;'>int64</td></tr></table></details>"
      ],
      "text/plain": [
       "GridDataset[unnamed]"
      ]
     },
     "execution_count": 3,
     "metadata": {},
     "output_type": "execute_result"
    }
   ],
   "source": [
    "grid = GridDataset.from_array([[1, 2, 3], [3, 4, 5]])\n",
    "grid"
   ]
  },
  {
   "cell_type": "markdown",
   "metadata": {},
   "source": [
    "## Naming grids, labelling grids, and attaching units to grids"
   ]
  },
  {
   "cell_type": "code",
   "execution_count": 4,
   "metadata": {},
   "outputs": [
    {
     "data": {
      "text/html": [
       "<div>GridDataset:</div><table style='margin-left: 1rem;'><tr><td style='font-weight: bold; text-align: left;'>name</td><td style='text-align: left;'>my_new_name</td></tr><tr><td style='font-weight: bold; text-align: left;'>label</td><td style='text-align: left;'>My New Label</td></tr><tr><td style='font-weight: bold; text-align: left;'>unit</td><td style='text-align: left;'>some unit</td></tr><tr><td style='font-weight: bold; text-align: left;'>backend</td><td style='text-align: left;'>None</td></tr></table><details><summary>Grid Properties</summary><table style='margin-left: 1rem;'><tr><td style='font-weight: bold; text-align: left;'>grid_ndim</td><td style='text-align: left;'>2</td></tr><tr><td style='font-weight: bold; text-align: left;'>grid_shape</td><td style='text-align: left;'>(2, 3)</td></tr><tr><td style='font-weight: bold; text-align: left;'>axes</td><td style='text-align: left;'>axis0, axis1</td></tr></table></details><details><summary>Array Properties</summary><table style='margin-left: 1rem;'><tr><td style='font-weight: bold; text-align: left;'>ndim</td><td style='text-align: left;'>2</td></tr><tr><td style='font-weight: bold; text-align: left;'>shape</td><td style='text-align: left;'>(2, 3)</td></tr><tr><td style='font-weight: bold; text-align: left;'>dtype</td><td style='text-align: left;'>int64</td></tr></table></details>"
      ],
      "text/plain": [
       "GridDataset[my_new_name]"
      ]
     },
     "execution_count": 4,
     "metadata": {},
     "output_type": "execute_result"
    }
   ],
   "source": [
    "grid = GridDataset.from_array([[1, 2, 3], [3, 4, 5]], name=\"my_new_name\", label=\"My New Label\", unit=\"some unit\")\n",
    "grid"
   ]
  },
  {
   "cell_type": "markdown",
   "metadata": {},
   "source": [
    "And modified, e.g. for `name`"
   ]
  },
  {
   "cell_type": "code",
   "execution_count": 5,
   "metadata": {},
   "outputs": [
    {
     "name": "stdout",
     "output_type": "stream",
     "text": [
      "grid.name = 'some_new_name'\n"
     ]
    }
   ],
   "source": [
    "grid.name = \"some_new_name\"\n",
    "print(f\"{grid.name = }\")"
   ]
  },
  {
   "cell_type": "code",
   "execution_count": 19,
   "metadata": {},
   "outputs": [
    {
     "name": "stderr",
     "output_type": "stream",
     "text": [
      "Argument 'name' has to be an identifier\n"
     ]
    }
   ],
   "source": [
    "try:\n",
    "    grid = GridDataset.from_array([[1, 2, 3], [3, 4, 5]], name=\"some invalid name\")\n",
    "except ValueError as exc:\n",
    "    print(exc, file=sys.stderr)"
   ]
  },
  {
   "cell_type": "code",
   "execution_count": 20,
   "metadata": {},
   "outputs": [
    {
     "name": "stderr",
     "output_type": "stream",
     "text": [
      "New name has to be an identifier\n"
     ]
    }
   ],
   "source": [
    "try:\n",
    "    grid.name = \"some invalid name\"\n",
    "except ValueError as exc:\n",
    "    print(exc, file=sys.stderr)"
   ]
  },
  {
   "cell_type": "markdown",
   "metadata": {},
   "source": [
    "## Axes of grids"
   ]
  },
  {
   "cell_type": "markdown",
   "metadata": {},
   "source": [
    "Calling this method uses an implicit instantiation. It means that nata uses default values for the common properties, e.g. name, label, axes, to ensure consistancy when dealing with grid objects. This properties can be changed by assigning a new value. Alternatively, a grid can be created by using an explicit instantiation, e.g. passing arguments to the function call."
   ]
  },
  {
   "cell_type": "code",
   "execution_count": 8,
   "metadata": {},
   "outputs": [
    {
     "data": {
      "text/html": [
       "<div>GridDataset:</div><table style='margin-left: 1rem;'><tr><td style='font-weight: bold; text-align: left;'>name</td><td style='text-align: left;'>unnamed</td></tr><tr><td style='font-weight: bold; text-align: left;'>label</td><td style='text-align: left;'>unlabeled</td></tr><tr><td style='font-weight: bold; text-align: left;'>unit</td><td style='text-align: left;'>''</td></tr><tr><td style='font-weight: bold; text-align: left;'>backend</td><td style='text-align: left;'>None</td></tr></table><details><summary>Grid Properties</summary><table style='margin-left: 1rem;'><tr><td style='font-weight: bold; text-align: left;'>grid_ndim</td><td style='text-align: left;'>1</td></tr><tr><td style='font-weight: bold; text-align: left;'>grid_shape</td><td style='text-align: left;'>(3,)</td></tr><tr><td style='font-weight: bold; text-align: left;'>axes</td><td style='text-align: left;'>time, axis0</td></tr></table></details><details><summary>Array Properties</summary><table style='margin-left: 1rem;'><tr><td style='font-weight: bold; text-align: left;'>ndim</td><td style='text-align: left;'>2</td></tr><tr><td style='font-weight: bold; text-align: left;'>shape</td><td style='text-align: left;'>(2, 3)</td></tr><tr><td style='font-weight: bold; text-align: left;'>dtype</td><td style='text-align: left;'>int64</td></tr></table></details>"
      ],
      "text/plain": [
       "GridDataset[unnamed]"
      ]
     },
     "execution_count": 8,
     "metadata": {},
     "output_type": "execute_result"
    }
   ],
   "source": [
    "grid = GridDataset.from_array(\n",
    "    [[1, 2, 3], [3, 4, 5]],\n",
    "    time=[1.2, 5.5],\n",
    ")\n",
    "grid"
   ]
  },
  {
   "cell_type": "code",
   "execution_count": 9,
   "metadata": {},
   "outputs": [
    {
     "data": {
      "text/html": [
       "<div>GridDatasetAxes:</div><table style='margin-left: 1rem;'><tr><td style='font-weight: bold; text-align: left;'>time</td><td style='text-align: left;'>Axis(name: <i>time</i>)</td></tr><tr><td style='font-weight: bold; text-align: left;'>iteration</td><td style='text-align: left;'>None</td></tr><tr><td style='font-weight: bold; text-align: left;'>grid_axes</td><td style='text-align: left;'>Axis(name: <i>time</i>), Axis(name: <i>axis0</i>)</td></tr></table>"
      ],
      "text/plain": [
       "GridDatasetAxes[time, axis0]"
      ]
     },
     "execution_count": 9,
     "metadata": {},
     "output_type": "execute_result"
    }
   ],
   "source": [
    "grid.axes"
   ]
  },
  {
   "cell_type": "markdown",
   "metadata": {},
   "source": [
    "If the argument `time` is provideded, then the first axis for the grid axes correspond to the time axis. Alternatively, an iteration axis can also be provided as another temporal axis."
   ]
  },
  {
   "cell_type": "code",
   "execution_count": 10,
   "metadata": {},
   "outputs": [
    {
     "data": {
      "text/html": [
       "<div>GridDataset:</div><table style='margin-left: 1rem;'><tr><td style='font-weight: bold; text-align: left;'>name</td><td style='text-align: left;'>unnamed</td></tr><tr><td style='font-weight: bold; text-align: left;'>label</td><td style='text-align: left;'>unlabeled</td></tr><tr><td style='font-weight: bold; text-align: left;'>unit</td><td style='text-align: left;'>''</td></tr><tr><td style='font-weight: bold; text-align: left;'>backend</td><td style='text-align: left;'>None</td></tr></table><details><summary>Grid Properties</summary><table style='margin-left: 1rem;'><tr><td style='font-weight: bold; text-align: left;'>grid_ndim</td><td style='text-align: left;'>1</td></tr><tr><td style='font-weight: bold; text-align: left;'>grid_shape</td><td style='text-align: left;'>(3,)</td></tr><tr><td style='font-weight: bold; text-align: left;'>axes</td><td style='text-align: left;'>iteration, axis0</td></tr></table></details><details><summary>Array Properties</summary><table style='margin-left: 1rem;'><tr><td style='font-weight: bold; text-align: left;'>ndim</td><td style='text-align: left;'>2</td></tr><tr><td style='font-weight: bold; text-align: left;'>shape</td><td style='text-align: left;'>(2, 3)</td></tr><tr><td style='font-weight: bold; text-align: left;'>dtype</td><td style='text-align: left;'>int64</td></tr></table></details>"
      ],
      "text/plain": [
       "GridDataset[unnamed]"
      ]
     },
     "execution_count": 10,
     "metadata": {},
     "output_type": "execute_result"
    }
   ],
   "source": [
    "grid = GridDataset.from_array(\n",
    "    [[1, 2, 3], [3, 4, 5]],\n",
    "    iteration=[1, 5],\n",
    ")\n",
    "grid"
   ]
  },
  {
   "cell_type": "code",
   "execution_count": 11,
   "metadata": {},
   "outputs": [
    {
     "data": {
      "text/html": [
       "<div>GridDataset:</div><table style='margin-left: 1rem;'><tr><td style='font-weight: bold; text-align: left;'>name</td><td style='text-align: left;'>unnamed</td></tr><tr><td style='font-weight: bold; text-align: left;'>label</td><td style='text-align: left;'>unlabeled</td></tr><tr><td style='font-weight: bold; text-align: left;'>unit</td><td style='text-align: left;'>''</td></tr><tr><td style='font-weight: bold; text-align: left;'>backend</td><td style='text-align: left;'>None</td></tr></table><details><summary>Grid Properties</summary><table style='margin-left: 1rem;'><tr><td style='font-weight: bold; text-align: left;'>grid_ndim</td><td style='text-align: left;'>1</td></tr><tr><td style='font-weight: bold; text-align: left;'>grid_shape</td><td style='text-align: left;'>(3,)</td></tr><tr><td style='font-weight: bold; text-align: left;'>axes</td><td style='text-align: left;'>time, axis0</td></tr></table></details><details><summary>Array Properties</summary><table style='margin-left: 1rem;'><tr><td style='font-weight: bold; text-align: left;'>ndim</td><td style='text-align: left;'>2</td></tr><tr><td style='font-weight: bold; text-align: left;'>shape</td><td style='text-align: left;'>(2, 3)</td></tr><tr><td style='font-weight: bold; text-align: left;'>dtype</td><td style='text-align: left;'>int64</td></tr></table></details>"
      ],
      "text/plain": [
       "GridDataset[unnamed]"
      ]
     },
     "execution_count": 11,
     "metadata": {},
     "output_type": "execute_result"
    }
   ],
   "source": [
    "grid = GridDataset.from_array(\n",
    "    [[1, 2, 3], [3, 4, 5]],\n",
    "    iteration=[1, 5],\n",
    "    time=[2.2, 5.5],\n",
    ")\n",
    "grid"
   ]
  },
  {
   "cell_type": "code",
   "execution_count": 12,
   "metadata": {},
   "outputs": [
    {
     "name": "stdout",
     "output_type": "stream",
     "text": [
      "np.array(grid.axes.time) = array([2.2, 5.5])\n",
      "np.array(grid.axes.iteration) = array([1, 5])\n"
     ]
    }
   ],
   "source": [
    "print(f\"{np.array(grid.axes.time) = }\")\n",
    "print(f\"{np.array(grid.axes.iteration) = }\")"
   ]
  },
  {
   "cell_type": "code",
   "execution_count": 13,
   "metadata": {},
   "outputs": [
    {
     "name": "stdout",
     "output_type": "stream",
     "text": [
      "grid.axes[0] = Axis(name=time)\n",
      "grid.axes[1] = Axis(name=axis0)\n"
     ]
    }
   ],
   "source": [
    "print(f\"{grid.axes[0] = }\")\n",
    "print(f\"{grid.axes[1] = }\")"
   ]
  },
  {
   "cell_type": "code",
   "execution_count": 14,
   "metadata": {},
   "outputs": [
    {
     "name": "stdout",
     "output_type": "stream",
     "text": [
      "grid.axes['time'] = Axis(name=time)\n",
      "grid.axes['axis0'] = Axis(name=axis0)\n"
     ]
    }
   ],
   "source": [
    "print(f\"{grid.axes['time'] = }\")\n",
    "print(f\"{grid.axes['axis0'] = }\")"
   ]
  },
  {
   "cell_type": "code",
   "execution_count": 15,
   "metadata": {},
   "outputs": [
    {
     "data": {
      "text/html": [
       "<div>GridDatasetAxes:</div><table style='margin-left: 1rem;'><tr><td style='font-weight: bold; text-align: left;'>time</td><td style='text-align: left;'>Axis(name: <i>my_time_axis</i>)</td></tr><tr><td style='font-weight: bold; text-align: left;'>iteration</td><td style='text-align: left;'>None</td></tr><tr><td style='font-weight: bold; text-align: left;'>grid_axes</td><td style='text-align: left;'>Axis(name: <i>my_custom_axis0</i>), Axis(name: <i>my_custom_axis1</i>)</td></tr></table>"
      ],
      "text/plain": [
       "GridDatasetAxes[my_custom_axis0, my_custom_axis1]"
      ]
     },
     "execution_count": 15,
     "metadata": {},
     "output_type": "execute_result"
    }
   ],
   "source": [
    "grid = GridDataset.from_array(\n",
    "    [[1, 2, 3], [3, 4, 5]],\n",
    "    dataset_axes=GridDatasetAxes(\n",
    "        axes=[\n",
    "            Axis([1.2, 3.4], name=\"my_custom_axis0\"),\n",
    "            Axis([-4, 8, 3], name=\"my_custom_axis1\")\n",
    "        ],\n",
    "        time=Axis(0.0, name=\"my_time_axis\")\n",
    "    ),\n",
    "    # if 'dataset_axes' specified, 'iteration', and 'time' will be ignored\n",
    "    iteration=[1, 2, 3, 4],\n",
    "    time=[0],\n",
    ")\n",
    "grid.axes"
   ]
  },
  {
   "cell_type": "code",
   "execution_count": 16,
   "metadata": {},
   "outputs": [
    {
     "name": "stderr",
     "output_type": "stream",
     "text": [
      "can't set attribute\n"
     ]
    }
   ],
   "source": [
    "try:\n",
    "    grid.axes.iteration = Axis(0, name=\"my_iteration_axis\")\n",
    "except AttributeError as exc:\n",
    "    print(exc, file=sys.stderr)"
   ]
  },
  {
   "cell_type": "code",
   "execution_count": 17,
   "metadata": {},
   "outputs": [
    {
     "data": {
      "text/html": [
       "<div>GridDatasetAxes:</div><table style='margin-left: 1rem;'><tr><td style='font-weight: bold; text-align: left;'>time</td><td style='text-align: left;'>Axis(name: <i>time</i>)</td></tr><tr><td style='font-weight: bold; text-align: left;'>iteration</td><td style='text-align: left;'>Axis(name: <i>iteration</i>)</td></tr><tr><td style='font-weight: bold; text-align: left;'>grid_axes</td><td style='text-align: left;'>Axis(name: <i>my_custom_axis0</i>), Axis(name: <i>my_custom_axis1</i>)</td></tr></table>"
      ],
      "text/plain": [
       "GridDatasetAxes[my_custom_axis0, my_custom_axis1]"
      ]
     },
     "execution_count": 17,
     "metadata": {},
     "output_type": "execute_result"
    }
   ],
   "source": [
    "new_grid = GridDataset.from_array(\n",
    "    grid,\n",
    "    dataset_axes=GridDatasetAxes(\n",
    "        axes=grid.axes.grid_axes,\n",
    "        iteration=Axis(10, name=\"my_iteration_axis\"),\n",
    "        time=grid.axes.time,\n",
    "    )\n",
    ")\n",
    "\n",
    "# or equivalent:\n",
    "new_grid = GridDataset.from_array(\n",
    "    grid,\n",
    "    grid_axes=grid.axes.grid_axes,\n",
    "    iteration=Axis(10, name=\"my_iteration_axis\"),\n",
    "    time=grid.axes.time,\n",
    ")\n",
    "new_grid.axes"
   ]
  },
  {
   "cell_type": "markdown",
   "metadata": {},
   "source": [
    "## Array properties \n",
    "\n",
    "<div class=\"alert alert-block alert-info\">\n",
    "Any reference to an array assumes numpy like arrays.\n",
    "</div>\n",
    "\n",
    "Each `GridDataset` acts as it would be an array by providing common array properties. This properties are read-only and can be modified by array functions, e.g., `np.reshape`."
   ]
  },
  {
   "cell_type": "code",
   "execution_count": 18,
   "metadata": {
    "tags": []
   },
   "outputs": [
    {
     "ename": "NameError",
     "evalue": "name 'grid_ds' is not defined",
     "output_type": "error",
     "traceback": [
      "\u001b[0;31m---------------------------------------------------------------------------\u001b[0m",
      "\u001b[0;31mNameError\u001b[0m                                 Traceback (most recent call last)",
      "\u001b[0;32m<ipython-input-18-6a56d373abaa>\u001b[0m in \u001b[0;36m<module>\u001b[0;34m\u001b[0m\n\u001b[0;32m----> 1\u001b[0;31m \u001b[0mprint\u001b[0m\u001b[0;34m(\u001b[0m\u001b[0;34mf\"{grid_ds.shape = }\"\u001b[0m\u001b[0;34m)\u001b[0m\u001b[0;34m\u001b[0m\u001b[0;34m\u001b[0m\u001b[0m\n\u001b[0m\u001b[1;32m      2\u001b[0m \u001b[0mprint\u001b[0m\u001b[0;34m(\u001b[0m\u001b[0;34mf\"{grid_ds.ndim  = }\"\u001b[0m\u001b[0;34m)\u001b[0m\u001b[0;34m\u001b[0m\u001b[0;34m\u001b[0m\u001b[0m\n\u001b[1;32m      3\u001b[0m \u001b[0mprint\u001b[0m\u001b[0;34m(\u001b[0m\u001b[0;34mf\"{grid_ds.dtype = }\"\u001b[0m\u001b[0;34m)\u001b[0m\u001b[0;34m\u001b[0m\u001b[0;34m\u001b[0m\u001b[0m\n",
      "\u001b[0;31mNameError\u001b[0m: name 'grid_ds' is not defined"
     ]
    }
   ],
   "source": [
    "print(f\"{grid_ds.shape = }\")\n",
    "print(f\"{grid_ds.ndim  = }\")\n",
    "print(f\"{grid_ds.dtype = }\")"
   ]
  },
  {
   "cell_type": "markdown",
   "metadata": {},
   "source": [
    "In addition to the array properties, "
   ]
  },
  {
   "cell_type": "markdown",
   "metadata": {},
   "source": [
    "Also an extra information about the unit for `GridDataset` and by default it is empty. However, it behaves similar to a numpy array by providing properties like `.shape`, `.ndim` and `.dtype`."
   ]
  },
  {
   "cell_type": "markdown",
   "metadata": {
    "tags": []
   },
   "source": [
    "\n",
    "\n",
    "In general, a `GridDataset` is expected to behave like an array."
   ]
  }
 ],
 "metadata": {
  "kernelspec": {
   "display_name": "Python 3",
   "language": "python",
   "name": "python3"
  },
  "language_info": {
   "codemirror_mode": {
    "name": "ipython",
    "version": 3
   },
   "file_extension": ".py",
   "mimetype": "text/x-python",
   "name": "python",
   "nbconvert_exporter": "python",
   "pygments_lexer": "ipython3",
   "version": "3.8.9"
  }
 },
 "nbformat": 4,
 "nbformat_minor": 4
}
