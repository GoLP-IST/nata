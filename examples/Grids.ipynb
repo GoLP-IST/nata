{
 "cells": [
  {
   "cell_type": "markdown",
   "metadata": {},
   "source": [
    "# Natas representation of grids\n",
    "\n",
    "Nata has two type of representation for grids, `GridArray` and `GridDataset`. Both types are **array-like containers** which have a common interface for\n",
    "\n",
    "- Annotations (`.name`, `.label`, `.unit`)\n",
    "- Plugins (`.plot`, `.fft`, ...)\n",
    "\n",
    "and both can be created **from a file** (using `.from_path`) or **from an array-like object** (using `.from_array`)."
   ]
  },
  {
   "cell_type": "code",
   "execution_count": 1,
   "metadata": {},
   "outputs": [],
   "source": [
    "from nata.containers import GridArray\n",
    "from nata.containers import GridDataset"
   ]
  },
  {
   "cell_type": "markdown",
   "metadata": {},
   "source": [
    "## How to create GridArray and GridDataset"
   ]
  },
  {
   "cell_type": "markdown",
   "metadata": {},
   "source": [
    "Create an `GridArray` from a numpy array with annotations."
   ]
  },
  {
   "cell_type": "code",
   "execution_count": 2,
   "metadata": {},
   "outputs": [
    {
     "data": {
      "text/markdown": [
       "\n",
       "| **GridArray** | |\n",
       "| ---: | :--- |\n",
       "| **name**  | unnamed |\n",
       "| **label** | unlabeled |\n",
       "| **unit**  | '' |\n",
       "| **shape** | (4, 8) |\n",
       "| **dtype** | float64 |\n",
       "| **time**  | None |\n",
       "| **axes**  | Axis(axis0), Axis(axis1) |\n",
       "\n"
      ],
      "text/plain": [
       "GridArray<shape=(4, 8), dtype=float64, time=None, axes=(Axis(axis0), Axis(axis1))>"
      ]
     },
     "execution_count": 2,
     "metadata": {},
     "output_type": "execute_result"
    }
   ],
   "source": [
    "import numpy as np\n",
    "\n",
    "example_array = np.arange(32, dtype=np.float64).reshape((4, 8))\n",
    "\n",
    "grid = GridArray.from_array(example_array)\n",
    "grid"
   ]
  },
  {
   "cell_type": "markdown",
   "metadata": {},
   "source": [
    "By default nata will provide some default parameters when creating a container object. This can be changed at creation"
   ]
  },
  {
   "cell_type": "code",
   "execution_count": 3,
   "metadata": {},
   "outputs": [
    {
     "data": {
      "text/markdown": [
       "\n",
       "| **GridArray** | |\n",
       "| ---: | :--- |\n",
       "| **name**  | some_name |\n",
       "| **label** | some label |\n",
       "| **unit**  | some unit |\n",
       "| **shape** | (4, 8) |\n",
       "| **dtype** | float64 |\n",
       "| **time**  | 10.0 |\n",
       "| **axes**  | Axis(a1), Axis(a2) |\n",
       "\n"
      ],
      "text/plain": [
       "GridArray<shape=(4, 8), dtype=float64, time=10.0, axes=(Axis(a1), Axis(a2))>"
      ]
     },
     "execution_count": 3,
     "metadata": {},
     "output_type": "execute_result"
    }
   ],
   "source": [
    "from nata.containers import Axis\n",
    "\n",
    "grid = GridArray.from_array(\n",
    "    example_array,\n",
    "    name=\"some_name\",\n",
    "    label=\"some label\",\n",
    "    unit=\"some unit\",\n",
    "    time=10.0,\n",
    "    axes=(\n",
    "        Axis.from_array([0, 1, 2, 3], name=\"a1\"),\n",
    "        Axis.from_array(np.arange(8) - 10, name=\"a2\"),\n",
    "    )\n",
    ")\n",
    "grid"
   ]
  },
  {
   "cell_type": "markdown",
   "metadata": {},
   "source": [
    "or by changing each property individually"
   ]
  },
  {
   "cell_type": "code",
   "execution_count": 4,
   "metadata": {},
   "outputs": [
    {
     "data": {
      "text/markdown": [
       "\n",
       "| **GridArray** | |\n",
       "| ---: | :--- |\n",
       "| **name**  | some_new_name |\n",
       "| **label** | some new label |\n",
       "| **unit**  | some new unit |\n",
       "| **shape** | (4, 8) |\n",
       "| **dtype** | float64 |\n",
       "| **time**  | 10.0 |\n",
       "| **axes**  | Axis(a1), Axis(a2) |\n",
       "\n"
      ],
      "text/plain": [
       "GridArray<shape=(4, 8), dtype=float64, time=10.0, axes=(Axis(a1), Axis(a2))>"
      ]
     },
     "execution_count": 4,
     "metadata": {},
     "output_type": "execute_result"
    }
   ],
   "source": [
    "grid.name = \"some_new_name\"\n",
    "grid.label = \"some new label\"\n",
    "grid.unit = \"some new unit\"\n",
    "grid"
   ]
  },
  {
   "cell_type": "markdown",
   "metadata": {},
   "source": [
    "The `GridArray` represent a grid at **one** specific time step"
   ]
  },
  {
   "cell_type": "code",
   "execution_count": 5,
   "metadata": {},
   "outputs": [
    {
     "name": "stdout",
     "output_type": "stream",
     "text": [
      "grid.time.shape = ()\n",
      "grid.axes[0].shape = (4,)\n",
      "grid.axes[1].shape = (8,)\n"
     ]
    }
   ],
   "source": [
    "print(f\"{grid.time.shape = }\")\n",
    "print(f\"{grid.axes[0].shape = }\")\n",
    "print(f\"{grid.axes[1].shape = }\")"
   ]
  },
  {
   "cell_type": "markdown",
   "metadata": {},
   "source": [
    "but the `GridDataset` represents a grid at **different time steps**"
   ]
  },
  {
   "cell_type": "code",
   "execution_count": 6,
   "metadata": {},
   "outputs": [
    {
     "data": {
      "text/markdown": [
       "\n",
       "| **GridDataset** | |\n",
       "| ---: | :--- |\n",
       "| **name**  | unnamed |\n",
       "| **label** | unlabeled |\n",
       "| **unit**  | '' |\n",
       "| **shape** | (4, 8) |\n",
       "| **dtype** | float64 |\n",
       "| **time**  | [0 1 2 3] |\n",
       "| **axes**  | Axis(time), Axis(axis0) |\n",
       "\n"
      ],
      "text/plain": [
       "GridDataset<shape=(4, 8), dtype=float64, time=[0 1 2 3], axes=(Axis(time), Axis(axis0))>"
      ]
     },
     "execution_count": 6,
     "metadata": {},
     "output_type": "execute_result"
    }
   ],
   "source": [
    "grid_ds = GridDataset.from_array(example_array)\n",
    "grid_ds"
   ]
  },
  {
   "cell_type": "code",
   "execution_count": 7,
   "metadata": {},
   "outputs": [
    {
     "name": "stdout",
     "output_type": "stream",
     "text": [
      "grid_ds.shape = (4, 8)\n",
      "grid_ds.time.shape = (4,)\n",
      "grid_ds.axes[0].shape = (4,)\n",
      "grid_ds.axes[1].shape = (4, 8)\n"
     ]
    }
   ],
   "source": [
    "print(f\"{grid_ds.shape = }\")\n",
    "print(f\"{grid_ds.time.shape = }\")\n",
    "print(f\"{grid_ds.axes[0].shape = }\")\n",
    "print(f\"{grid_ds.axes[1].shape = }\")"
   ]
  },
  {
   "cell_type": "markdown",
   "metadata": {},
   "source": [
    "## Reading from path\n",
    "\n",
    "Grids can be created by using the `.from_path` method."
   ]
  },
  {
   "cell_type": "code",
   "execution_count": 8,
   "metadata": {},
   "outputs": [],
   "source": [
    "from nata import examples"
   ]
  },
  {
   "cell_type": "markdown",
   "metadata": {},
   "source": [
    "Here are some example grid files:"
   ]
  },
  {
   "cell_type": "code",
   "execution_count": 9,
   "metadata": {},
   "outputs": [
    {
     "name": "stdout",
     "output_type": "stream",
     "text": [
      "total 48\n",
      "-rwxr-xr-x 1 natadev natadev 7336 May 13 22:53 grid-1d-0.h5\n",
      "-rwxr-xr-x 1 natadev natadev 7336 May 13 22:53 grid-1d-1.h5\n",
      "-rwxr-xr-x 1 natadev natadev 7336 May 13 22:53 grid-1d-2.h5\n",
      "-rwxr-xr-x 1 natadev natadev 7336 May 13 22:53 grid-1d-3.h5\n",
      "-rwxr-xr-x 1 natadev natadev 7336 May 13 22:53 grid-1d-4.h5\n",
      "-rwxr-xr-x 1 natadev natadev 7336 May 13 22:53 grid-1d-5.h5\n"
     ]
    }
   ],
   "source": [
    "!ls -l {examples.grids}"
   ]
  },
  {
   "cell_type": "markdown",
   "metadata": {},
   "source": [
    "To create a `GridArray` from **one file** simply use the `.from_path` method"
   ]
  },
  {
   "cell_type": "code",
   "execution_count": 10,
   "metadata": {},
   "outputs": [
    {
     "data": {
      "text/markdown": [
       "\n",
       "| **GridArray** | |\n",
       "| ---: | :--- |\n",
       "| **name**  | e1 |\n",
       "| **label** | E_1 |\n",
       "| **unit**  | m_e c \\omega_p e^{-1} |\n",
       "| **shape** | (120,) |\n",
       "| **dtype** | float32 |\n",
       "| **time**  | 0.0 |\n",
       "| **axes**  | Axis(x1) |\n",
       "\n"
      ],
      "text/plain": [
       "GridArray<shape=(120,), dtype=float32, time=0.0, axes=(Axis(x1))>"
      ]
     },
     "execution_count": 10,
     "metadata": {},
     "output_type": "execute_result"
    }
   ],
   "source": [
    "one_grid = GridArray.from_path(examples.grids / \"grid-1d-0.h5\")\n",
    "one_grid"
   ]
  },
  {
   "cell_type": "markdown",
   "metadata": {},
   "source": [
    "or create a `GridDataset` from **several files**"
   ]
  },
  {
   "cell_type": "code",
   "execution_count": 11,
   "metadata": {},
   "outputs": [
    {
     "data": {
      "text/markdown": [
       "\n",
       "| **GridDataset** | |\n",
       "| ---: | :--- |\n",
       "| **name**  | e1 |\n",
       "| **label** | E_1 |\n",
       "| **unit**  | m_e c \\omega_p e^{-1} |\n",
       "| **shape** | (6, 120) |\n",
       "| **dtype** | float32 |\n",
       "| **time**  | [ 0. 10. 20. 30. 40. 50.] |\n",
       "| **axes**  | Axis(time), Axis(x1) |\n",
       "\n"
      ],
      "text/plain": [
       "GridDataset<shape=(6, 120), dtype=float32, time=[ 0. 10. 20. 30. 40. 50.], axes=(Axis(time), Axis(x1))>"
      ]
     },
     "execution_count": 11,
     "metadata": {},
     "output_type": "execute_result"
    }
   ],
   "source": [
    "multiple_grids = GridDataset.from_path(examples.grids / \"*\")\n",
    "multiple_grids"
   ]
  },
  {
   "cell_type": "markdown",
   "metadata": {},
   "source": [
    "## Indexing"
   ]
  },
  {
   "cell_type": "markdown",
   "metadata": {},
   "source": [
    "Nata's container support object indexing, e.g. indexing along the temporal axis"
   ]
  },
  {
   "cell_type": "code",
   "execution_count": 12,
   "metadata": {},
   "outputs": [
    {
     "data": {
      "text/markdown": [
       "\n",
       "| **GridArray** | |\n",
       "| ---: | :--- |\n",
       "| **name**  | e1 |\n",
       "| **label** | E_1 |\n",
       "| **unit**  | m_e c \\omega_p e^{-1} |\n",
       "| **shape** | (120,) |\n",
       "| **dtype** | float32 |\n",
       "| **time**  | 20.0 |\n",
       "| **axes**  | Axis(x1) |\n",
       "\n"
      ],
      "text/plain": [
       "GridArray<shape=(120,), dtype=float32, time=20.0, axes=(Axis(x1))>"
      ]
     },
     "execution_count": 12,
     "metadata": {},
     "output_type": "execute_result"
    }
   ],
   "source": [
    "multiple_grids[2]"
   ]
  },
  {
   "cell_type": "markdown",
   "metadata": {},
   "source": [
    "or indexing along the spatial axis"
   ]
  },
  {
   "cell_type": "code",
   "execution_count": 13,
   "metadata": {},
   "outputs": [
    {
     "data": {
      "text/markdown": [
       "\n",
       "| **GridDataset** | |\n",
       "| ---: | :--- |\n",
       "| **name**  | e1 |\n",
       "| **label** | E_1 |\n",
       "| **unit**  | m_e c \\omega_p e^{-1} |\n",
       "| **shape** | (3, 29) |\n",
       "| **dtype** | float32 |\n",
       "| **time**  | [ 0. 20. 40.] |\n",
       "| **axes**  | Axis(time), Axis(x1) |\n",
       "\n"
      ],
      "text/plain": [
       "GridDataset<shape=(3, 29), dtype=float32, time=[ 0. 20. 40.], axes=(Axis(time), Axis(x1))>"
      ]
     },
     "execution_count": 13,
     "metadata": {},
     "output_type": "execute_result"
    }
   ],
   "source": [
    "multiple_grids[::2, 10:-25:3]"
   ]
  },
  {
   "cell_type": "markdown",
   "metadata": {},
   "source": [
    "## Getting the data stored"
   ]
  },
  {
   "cell_type": "code",
   "execution_count": 14,
   "metadata": {},
   "outputs": [
    {
     "data": {
      "text/plain": [
       "numpy.ndarray"
      ]
     },
     "execution_count": 14,
     "metadata": {},
     "output_type": "execute_result"
    }
   ],
   "source": [
    "type(multiple_grids.to_numpy())"
   ]
  },
  {
   "cell_type": "code",
   "execution_count": 15,
   "metadata": {},
   "outputs": [
    {
     "data": {
      "text/plain": [
       "array([ 0.03756667, -0.02527247, -0.05402965, -0.0644568 , -0.08836149,\n",
       "       -0.13276438, -0.16449456, -0.18726616, -0.21021022, -0.17068724,\n",
       "       -0.0675886 ,  0.05470179,  0.15090737,  0.16236047,  0.1385156 ],\n",
       "      dtype=float32)"
      ]
     },
     "execution_count": 15,
     "metadata": {},
     "output_type": "execute_result"
    }
   ],
   "source": [
    "multiple_grids[-1, 10:25].to_numpy()"
   ]
  },
  {
   "cell_type": "markdown",
   "metadata": {},
   "source": [
    "Data in nata is stored in dask array. This allow "
   ]
  },
  {
   "cell_type": "code",
   "execution_count": 16,
   "metadata": {},
   "outputs": [
    {
     "data": {
      "text/html": [
       "<table>\n",
       "<tr>\n",
       "<td>\n",
       "<table>\n",
       "  <thead>\n",
       "    <tr><td> </td><th> Array </th><th> Chunk </th></tr>\n",
       "  </thead>\n",
       "  <tbody>\n",
       "    <tr><th> Bytes </th><td> 2.88 kB </td> <td> 480 B </td></tr>\n",
       "    <tr><th> Shape </th><td> (6, 120) </td> <td> (1, 120) </td></tr>\n",
       "    <tr><th> Count </th><td> 18 Tasks </td><td> 6 Chunks </td></tr>\n",
       "    <tr><th> Type </th><td> float32 </td><td> numpy.ndarray </td></tr>\n",
       "  </tbody>\n",
       "</table>\n",
       "</td>\n",
       "<td>\n",
       "<svg width=\"170\" height=\"84\" style=\"stroke:rgb(0,0,0);stroke-width:1\" >\n",
       "\n",
       "  <!-- Horizontal lines -->\n",
       "  <line x1=\"0\" y1=\"0\" x2=\"120\" y2=\"0\" style=\"stroke-width:2\" />\n",
       "  <line x1=\"0\" y1=\"5\" x2=\"120\" y2=\"5\" />\n",
       "  <line x1=\"0\" y1=\"11\" x2=\"120\" y2=\"11\" />\n",
       "  <line x1=\"0\" y1=\"17\" x2=\"120\" y2=\"17\" />\n",
       "  <line x1=\"0\" y1=\"23\" x2=\"120\" y2=\"23\" />\n",
       "  <line x1=\"0\" y1=\"28\" x2=\"120\" y2=\"28\" />\n",
       "  <line x1=\"0\" y1=\"34\" x2=\"120\" y2=\"34\" style=\"stroke-width:2\" />\n",
       "\n",
       "  <!-- Vertical lines -->\n",
       "  <line x1=\"0\" y1=\"0\" x2=\"0\" y2=\"34\" style=\"stroke-width:2\" />\n",
       "  <line x1=\"120\" y1=\"0\" x2=\"120\" y2=\"34\" style=\"stroke-width:2\" />\n",
       "\n",
       "  <!-- Colored Rectangle -->\n",
       "  <polygon points=\"0.0,0.0 120.0,0.0 120.0,34.50101617379934 0.0,34.50101617379934\" style=\"fill:#ECB172A0;stroke-width:0\"/>\n",
       "\n",
       "  <!-- Text -->\n",
       "  <text x=\"60.000000\" y=\"54.501016\" font-size=\"1.0rem\" font-weight=\"100\" text-anchor=\"middle\" >120</text>\n",
       "  <text x=\"140.000000\" y=\"17.250508\" font-size=\"1.0rem\" font-weight=\"100\" text-anchor=\"middle\" transform=\"rotate(0,140.000000,17.250508)\">6</text>\n",
       "</svg>\n",
       "</td>\n",
       "</tr>\n",
       "</table>"
      ],
      "text/plain": [
       "dask.array<stack, shape=(6, 120), dtype=float32, chunksize=(1, 120), chunktype=numpy.ndarray>"
      ]
     },
     "execution_count": 16,
     "metadata": {},
     "output_type": "execute_result"
    }
   ],
   "source": [
    "multiple_grids.to_dask()"
   ]
  },
  {
   "cell_type": "markdown",
   "metadata": {},
   "source": [
    "## Grid containers behave like numpy arrays"
   ]
  },
  {
   "cell_type": "code",
   "execution_count": 17,
   "metadata": {},
   "outputs": [
    {
     "data": {
      "text/markdown": [
       "\n",
       "| **GridArray** | |\n",
       "| ---: | :--- |\n",
       "| **name**  | example |\n",
       "| **label** | \\chi |\n",
       "| **unit**  | '' |\n",
       "| **shape** | (4,) |\n",
       "| **dtype** | int64 |\n",
       "| **time**  | None |\n",
       "| **axes**  | Axis(axis0) |\n",
       "\n"
      ],
      "text/plain": [
       "GridArray<shape=(4,), dtype=int64, time=None, axes=(Axis(axis0))>"
      ]
     },
     "execution_count": 17,
     "metadata": {},
     "output_type": "execute_result"
    }
   ],
   "source": [
    "example = GridArray.from_array([0, 1, 4, 9], name=\"example\", label=\"\\chi\")\n",
    "example"
   ]
  },
  {
   "cell_type": "code",
   "execution_count": 18,
   "metadata": {},
   "outputs": [
    {
     "data": {
      "text/plain": [
       "array([0., 1., 2., 3.])"
      ]
     },
     "execution_count": 18,
     "metadata": {},
     "output_type": "execute_result"
    }
   ],
   "source": [
    "sqrt_example = np.sqrt(example)\n",
    "sqrt_example.to_numpy()"
   ]
  },
  {
   "cell_type": "markdown",
   "metadata": {},
   "source": [
    "While numpy functions are directly supported by using numpy's dispatch mechanism, annotations are not conserved"
   ]
  },
  {
   "cell_type": "code",
   "execution_count": 19,
   "metadata": {},
   "outputs": [
    {
     "data": {
      "text/markdown": [
       "\n",
       "| **GridArray** | |\n",
       "| ---: | :--- |\n",
       "| **name**  | unnamed |\n",
       "| **label** | unlabeled |\n",
       "| **unit**  | '' |\n",
       "| **shape** | (4,) |\n",
       "| **dtype** | float64 |\n",
       "| **time**  | None |\n",
       "| **axes**  | Axis(axis0) |\n",
       "\n"
      ],
      "text/plain": [
       "GridArray<shape=(4,), dtype=float64, time=None, axes=(Axis(axis0))>"
      ]
     },
     "execution_count": 19,
     "metadata": {},
     "output_type": "execute_result"
    }
   ],
   "source": [
    "sqrt_example"
   ]
  },
  {
   "cell_type": "markdown",
   "metadata": {},
   "source": [
    "To cover this special cases, nata introduces plugins. They are handy helper for repeatable tasks"
   ]
  },
  {
   "cell_type": "code",
   "execution_count": 20,
   "metadata": {},
   "outputs": [
    {
     "data": {
      "text/markdown": [
       "\n",
       "| **GridArray** | |\n",
       "| ---: | :--- |\n",
       "| **name**  | sqrt_example |\n",
       "| **label** | \\sqrt(\\chi) |\n",
       "| **unit**  | '' |\n",
       "| **shape** | (4,) |\n",
       "| **dtype** | float64 |\n",
       "| **time**  | None |\n",
       "| **axes**  | Axis(axis0) |\n",
       "\n"
      ],
      "text/plain": [
       "GridArray<shape=(4,), dtype=float64, time=None, axes=(Axis(axis0))>"
      ]
     },
     "execution_count": 20,
     "metadata": {},
     "output_type": "execute_result"
    }
   ],
   "source": [
    "from nata.containers import register_plugin\n",
    "\n",
    "@register_plugin(name=\"sqrt\")\n",
    "def sqrt_for_grids(data: GridArray):\n",
    "    result = np.sqrt(data)\n",
    "    result.name = \"sqrt_\" + data.name\n",
    "    result.label = f\"\\sqrt({data.label})\"\n",
    "    \n",
    "    return result\n",
    "\n",
    "example.sqrt()"
   ]
  },
  {
   "cell_type": "code",
   "execution_count": 21,
   "metadata": {},
   "outputs": [
    {
     "data": {
      "text/plain": [
       "[<matplotlib.lines.Line2D at 0xffff846e58e0>]"
      ]
     },
     "execution_count": 21,
     "metadata": {},
     "output_type": "execute_result"
    },
    {
     "data": {
      "image/png": "[encoded data removed]",
      "text/plain": [
       "<Figure size 432x288 with 1 Axes>"
      ]
     },
     "metadata": {
      "needs_background": "light"
     },
     "output_type": "display_data"
    }
   ],
   "source": [
    "nata_grid = GridArray.from_array([0, 1, 0, 2])\n",
    "\n",
    "import matplotlib.pyplot as plt\n",
    "\n",
    "plt.plot(nata_grid)"
   ]
  }
 ],
 "metadata": {
  "kernelspec": {
   "display_name": "Python 3",
   "language": "python",
   "name": "python3"
  },
  "language_info": {
   "codemirror_mode": {
    "name": "ipython",
    "version": 3
   },
   "file_extension": ".py",
   "mimetype": "text/x-python",
   "name": "python",
   "nbconvert_exporter": "python",
   "pygments_lexer": "ipython3",
   "version": "3.8.10"
  }
 },
 "nbformat": 4,
 "nbformat_minor": 4
}
