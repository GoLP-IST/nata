{
 "cells": [
  {
   "cell_type": "code",
   "execution_count": 1,
   "id": "2a2e5a1a-2146-4890-b37c-175f9fc9b844",
   "metadata": {},
   "outputs": [],
   "source": [
    "%load_ext autoreload\n",
    "%autoreload 2"
   ]
  },
  {
   "cell_type": "code",
   "execution_count": 2,
   "id": "b79b59cd-1ebc-4d9f-ab54-743ff4b66011",
   "metadata": {},
   "outputs": [],
   "source": [
    "import sys\n",
    "\n",
    "import numpy as np\n",
    "import dask.array as da\n",
    "import matplotlib.pyplot as plt\n",
    "\n",
    "from nata.containers import GridDataset\n",
    "from nata.containers import GridArray\n",
    "from nata.containers import Axis\n",
    "from nata.plugins.register import register_container_plugin"
   ]
  },
  {
   "cell_type": "markdown",
   "id": "12934ef1-50b5-45e6-b279-a4a0804999f0",
   "metadata": {},
   "source": [
    "# Slice\n",
    "\n",
    "The grid `.slice()` plugin returns a lower dimensionality slice of the original `GridArray` or `GridDataset`."
   ]
  },
  {
   "cell_type": "code",
   "execution_count": 3,
   "id": "e4349b01-bcd5-4204-a997-c5b2d0c00a29",
   "metadata": {},
   "outputs": [
    {
     "data": {
      "text/markdown": [
       "\n",
       "| **GridArray** | |\n",
       "| ---: | :--- |\n",
       "| **name**  | unnamed |\n",
       "| **label** | unlabeled |\n",
       "| **unit**  | '' |\n",
       "| **shape** | (8, 4, 3) |\n",
       "| **dtype** | int64 |\n",
       "| **time**  | 0.0 |\n",
       "| **axes**  | Axis(axis0), Axis(axis1), Axis(axis2) |\n",
       "\n"
      ],
      "text/plain": [
       "GridArray<shape=(8, 4, 3), dtype=int64, time=0.0, axes=(Axis(axis0), Axis(axis1), Axis(axis2))>"
      ]
     },
     "execution_count": 3,
     "metadata": {},
     "output_type": "execute_result"
    }
   ],
   "source": [
    "grid = GridArray.from_array(\n",
    "    np.arange(96).reshape((8, 4, 3))\n",
    ")\n",
    "grid"
   ]
  },
  {
   "cell_type": "markdown",
   "id": "95900fb9-ff19-4282-953e-b6d3c042d06c",
   "metadata": {},
   "source": [
    "Both the axis name or its index can be used to select the slicing direction."
   ]
  },
  {
   "cell_type": "code",
   "execution_count": 4,
   "id": "f551fb92-67e4-45a7-a775-5cab27a21147",
   "metadata": {},
   "outputs": [
    {
     "data": {
      "text/plain": [
       "(4, 3)"
      ]
     },
     "execution_count": 4,
     "metadata": {},
     "output_type": "execute_result"
    }
   ],
   "source": [
    "sliced_grid = grid.slice(constant=\"axis0\", value=0)\n",
    "sliced_grid.shape"
   ]
  },
  {
   "cell_type": "code",
   "execution_count": 5,
   "id": "4d63c39f-c2a6-469f-8c86-26eff3c2e14f",
   "metadata": {},
   "outputs": [
    {
     "data": {
      "text/plain": [
       "(4, 3)"
      ]
     },
     "execution_count": 5,
     "metadata": {},
     "output_type": "execute_result"
    }
   ],
   "source": [
    "sliced_grid = grid.slice(constant=0, value=0)\n",
    "sliced_grid.shape"
   ]
  },
  {
   "cell_type": "markdown",
   "id": "d64735b8-7552-4b2d-8082-fc81cebb6cbb",
   "metadata": {},
   "source": [
    "When using axis indices, negative values are also supported."
   ]
  },
  {
   "cell_type": "code",
   "execution_count": 6,
   "id": "8c47b1e1-7f27-4572-a513-b648389a40db",
   "metadata": {},
   "outputs": [
    {
     "data": {
      "text/plain": [
       "(8, 4)"
      ]
     },
     "execution_count": 6,
     "metadata": {},
     "output_type": "execute_result"
    }
   ],
   "source": [
    "sliced_grid = grid.slice(constant=-1, value=0)\n",
    "sliced_grid.shape"
   ]
  },
  {
   "cell_type": "markdown",
   "id": "56c4627b-1751-4705-b16c-a25eefe49e0f",
   "metadata": {},
   "source": [
    "When slicing `GridDataset`, time dependence is always preserved."
   ]
  },
  {
   "cell_type": "code",
   "execution_count": 7,
   "id": "306799b6-578b-43f1-8c39-63e517432d17",
   "metadata": {},
   "outputs": [
    {
     "data": {
      "text/markdown": [
       "\n",
       "| **GridDataset** | |\n",
       "| ---: | :--- |\n",
       "| **name**  | unnamed |\n",
       "| **label** | unlabeled |\n",
       "| **unit**  | '' |\n",
       "| **shape** | (8, 4, 3) |\n",
       "| **dtype** | int64 |\n",
       "| **time**  | [0 1 2 3 4 5 6 7] |\n",
       "| **axes**  | Axis(time), Axis(axis0), Axis(axis1) |\n",
       "\n"
      ],
      "text/plain": [
       "GridDataset<shape=(8, 4, 3), dtype=int64, time=[0 1 2 3 4 5 6 7], axes=(Axis(time), Axis(axis0), Axis(axis1))>"
      ]
     },
     "execution_count": 7,
     "metadata": {},
     "output_type": "execute_result"
    }
   ],
   "source": [
    "grid = GridDataset.from_array(\n",
    "    np.arange(96).reshape((8, 4, 3))\n",
    ")\n",
    "grid"
   ]
  },
  {
   "cell_type": "code",
   "execution_count": 8,
   "id": "a3e1cce3-041b-4a01-ab6f-b1e247cb562f",
   "metadata": {},
   "outputs": [
    {
     "data": {
      "text/markdown": [
       "\n",
       "| **GridDataset** | |\n",
       "| ---: | :--- |\n",
       "| **name**  | unnamed |\n",
       "| **label** | unlabeled |\n",
       "| **unit**  | '' |\n",
       "| **shape** | (8, 3) |\n",
       "| **dtype** | int64 |\n",
       "| **time**  | [0. 0. 0. 0. 0. 0. 0. 0.] |\n",
       "| **axes**  | Axis(time), Axis(axis1) |\n",
       "\n"
      ],
      "text/plain": [
       "GridDataset<shape=(8, 3), dtype=int64, time=[0. 0. 0. 0. 0. 0. 0. 0.], axes=(Axis(time), Axis(axis1))>"
      ]
     },
     "execution_count": 8,
     "metadata": {},
     "output_type": "execute_result"
    }
   ],
   "source": [
    "sliced_grid = grid.slice(constant=\"axis0\", value=0)\n",
    "sliced_grid"
   ]
  },
  {
   "cell_type": "markdown",
   "id": "3abe2cc4-701a-410a-b4cb-1e387f551460",
   "metadata": {},
   "source": [
    "Slices are not allowed along the time axis."
   ]
  },
  {
   "cell_type": "code",
   "execution_count": 9,
   "id": "ab7b8f70-934d-4d5d-96ca-11c86aec235d",
   "metadata": {},
   "outputs": [
    {
     "name": "stdout",
     "output_type": "stream",
     "text": [
      "slice along the time axis `time` is not supported\n"
     ]
    }
   ],
   "source": [
    "try:\n",
    "    grid.slice(constant=\"time\", value=0)\n",
    "except ValueError:\n",
    "    print(\"slice along the time axis `time` is not supported\")"
   ]
  },
  {
   "cell_type": "markdown",
   "id": "ee23d4e4-dc4a-4739-9356-6a62999f234a",
   "metadata": {},
   "source": [
    "Slices are allowed along moving axis as long as the value at which they are taken exists in the corresponding axis for all times."
   ]
  },
  {
   "cell_type": "code",
   "execution_count": 10,
   "id": "eb6032b3-e230-4adf-832d-ad625c208a4e",
   "metadata": {},
   "outputs": [
    {
     "data": {
      "text/markdown": [
       "\n",
       "| **GridDataset** | |\n",
       "| ---: | :--- |\n",
       "| **name**  | unnamed |\n",
       "| **label** | unlabeled |\n",
       "| **unit**  | '' |\n",
       "| **shape** | (5,) |\n",
       "| **dtype** | int64 |\n",
       "| **time**  | [0. 0. 0. 0. 0.] |\n",
       "| **axes**  | Axis(time) |\n",
       "\n"
      ],
      "text/plain": [
       "GridDataset<shape=(5,), dtype=int64, time=[0. 0. 0. 0. 0.], axes=(Axis(time))>"
      ]
     },
     "execution_count": 10,
     "metadata": {},
     "output_type": "execute_result"
    }
   ],
   "source": [
    "x = np.arange(10)\n",
    "grid = GridDataset.from_array(\n",
    "    np.tile(x, (5, 1)), \n",
    "    axes=[\n",
    "        Axis(np.arange(5), name=\"t\"), \n",
    "        Axis([x, x+1, x+2, x+3, x+4], name=\"x1\"),\n",
    "    ]\n",
    ")\n",
    "grid.slice(constant=\"x1\", value=5)"
   ]
  },
  {
   "cell_type": "markdown",
   "id": "df3f98f4-50ad-4fe1-9da8-2099cf8037fa",
   "metadata": {},
   "source": [
    "# Fast Fourier Transform (FFT)\n",
    "\n",
    "The grid `.fft()` plugin returns the FFT of the original `GridDataset`."
   ]
  },
  {
   "cell_type": "markdown",
   "id": "07334898-045b-4568-a33e-3e1c0e35fd9e",
   "metadata": {},
   "source": [
    "If the `comp` argument is not provided, `.fft()` returns the absolute value of the FFT."
   ]
  },
  {
   "cell_type": "code",
   "execution_count": 11,
   "id": "088a801a-121a-45d2-92a8-4debdb0e16b0",
   "metadata": {},
   "outputs": [
    {
     "data": {
      "text/markdown": [
       "\n",
       "| **GridArray** | |\n",
       "| ---: | :--- |\n",
       "| **name**  | dataset |\n",
       "| **label** | |unlabeled| |\n",
       "| **unit**  | A |\n",
       "| **shape** | (101,) |\n",
       "| **dtype** | float64 |\n",
       "| **time**  | 0.0 |\n",
       "| **axes**  | Axis(k_x1) |\n",
       "\n"
      ],
      "text/plain": [
       "GridArray<shape=(101,), dtype=float64, time=0.0, axes=(Axis(k_x1))>"
      ]
     },
     "execution_count": 11,
     "metadata": {},
     "output_type": "execute_result"
    }
   ],
   "source": [
    "x = np.linspace(0, 10*np.pi, 101)\n",
    "\n",
    "grid = GridArray.from_array(\n",
    "    np.sin(x),\n",
    "    name=\"dataset\",\n",
    "    unit=\"A\",\n",
    "    axes=[\n",
    "        Axis(x, name=\"x1\", label=\"x_1\", unit=\"a\")\n",
    "    ]\n",
    ")\n",
    "fft_grid = grid.fft()\n",
    "fft_grid"
   ]
  },
  {
   "cell_type": "markdown",
   "id": "db1a2061-653a-4b33-a96c-a4fa71a4754c",
   "metadata": {},
   "source": [
    "The axes over which the FFT is computed are transformed such thatthe zero frequency bins are centered."
   ]
  },
  {
   "cell_type": "code",
   "execution_count": 12,
   "id": "db2eab77-c970-4348-9d5e-ecc8227f3016",
   "metadata": {},
   "outputs": [
    {
     "data": {
      "image/png": "[encoded data removed]",
      "text/plain": [
       "<Figure size 432x288 with 1 Axes>"
      ]
     },
     "metadata": {
      "needs_background": "light"
     },
     "output_type": "display_data"
    }
   ],
   "source": [
    "fig, ax = plt.subplots()\n",
    "\n",
    "ax.plot(fft_grid.axes[0].to_dask(), fft_grid.to_dask())\n",
    "ax.set_xlim((-3, 3))\n",
    "ax.set_xlabel(f\"${fft_grid.axes[0].label}$ [${fft_grid.axes[0].unit}$]\")\n",
    "ax.set_ylabel(f\"${fft_grid.label}$ [${fft_grid.unit}$]\")\n",
    "ax.axvline(+1, c=\"k\", ls=\"--\")\n",
    "ax.axvline(-1, c=\"k\", ls=\"--\")\n",
    "fig.show()"
   ]
  },
  {
   "cell_type": "markdown",
   "id": "2222f4c3-e1bc-44bb-b582-c245826368f4",
   "metadata": {},
   "source": [
    "If `comp` is provided, `.fft()` returns the corresponding component of the FFT."
   ]
  },
  {
   "cell_type": "code",
   "execution_count": 13,
   "id": "9dd05dad-9244-43e8-b198-0b77033db968",
   "metadata": {},
   "outputs": [
    {
     "data": {
      "text/markdown": [
       "\n",
       "| **GridArray** | |\n",
       "| ---: | :--- |\n",
       "| **name**  | dataset |\n",
       "| **label** | \\Im(unlabeled) |\n",
       "| **unit**  | A |\n",
       "| **shape** | (101,) |\n",
       "| **dtype** | float64 |\n",
       "| **time**  | 0.0 |\n",
       "| **axes**  | Axis(k_x1) |\n",
       "\n"
      ],
      "text/plain": [
       "GridArray<shape=(101,), dtype=float64, time=0.0, axes=(Axis(k_x1))>"
      ]
     },
     "execution_count": 13,
     "metadata": {},
     "output_type": "execute_result"
    }
   ],
   "source": [
    "fft_grid = grid.fft(comp=\"imag\")\n",
    "fft_grid"
   ]
  },
  {
   "cell_type": "code",
   "execution_count": 14,
   "id": "71751d0e-5218-41ee-b0b2-9140427dd36b",
   "metadata": {},
   "outputs": [
    {
     "data": {
      "image/png": "[encoded data removed]",
      "text/plain": [
       "<Figure size 432x288 with 1 Axes>"
      ]
     },
     "metadata": {
      "needs_background": "light"
     },
     "output_type": "display_data"
    }
   ],
   "source": [
    "fig, ax = plt.subplots()\n",
    "\n",
    "ax.plot(fft_grid.axes[0].to_dask(), fft_grid.to_dask())\n",
    "ax.set_xlim((-3, 3))\n",
    "ax.set_xlabel(f\"${fft_grid.axes[0].label}$ [${fft_grid.axes[0].unit}$]\")\n",
    "ax.set_ylabel(f\"${fft_grid.label}$ [${fft_grid.unit}$]\")\n",
    "ax.axvline(+1, c=\"k\", ls=\"--\")\n",
    "ax.axvline(-1, c=\"k\", ls=\"--\")\n",
    "fig.show()"
   ]
  },
  {
   "cell_type": "markdown",
   "id": "8417bd56-6c10-4c69-93c0-598562899e03",
   "metadata": {},
   "source": [
    "When applied to multidimensional grids, the `axes` argument controls the axes over which the FFT is computed. If `axes` is not provided, the FFT is computed over all available grid axes."
   ]
  },
  {
   "cell_type": "code",
   "execution_count": 15,
   "id": "38d84d52-816a-43f1-98bc-63ee8de59c81",
   "metadata": {},
   "outputs": [
    {
     "data": {
      "text/markdown": [
       "\n",
       "| **GridArray** | |\n",
       "| ---: | :--- |\n",
       "| **name**  | dataset |\n",
       "| **label** | |unlabeled| |\n",
       "| **unit**  | '' |\n",
       "| **shape** | (101, 201) |\n",
       "| **dtype** | float64 |\n",
       "| **time**  | 0.0 |\n",
       "| **axes**  | Axis(k_x1), Axis(k_x2) |\n",
       "\n"
      ],
      "text/plain": [
       "GridArray<shape=(101, 201), dtype=float64, time=0.0, axes=(Axis(k_x1), Axis(k_x2))>"
      ]
     },
     "execution_count": 15,
     "metadata": {},
     "output_type": "execute_result"
    }
   ],
   "source": [
    "x = np.linspace(0, 10*np.pi, 101)\n",
    "y = np.linspace(0, 10*np.pi, 201)\n",
    "\n",
    "X,Y = np.meshgrid(x, y, indexing=\"ij\")\n",
    "\n",
    "grid = GridArray.from_array(\n",
    "    np.sin(X) + np.sin(2*Y),\n",
    "    name=\"dataset\",\n",
    "    axes=[\n",
    "        Axis(x, name=\"x1\", label=\"x_1\", unit=\"a\"),\n",
    "        Axis(y, name=\"x2\", label=\"x_2\", unit=\"b\")\n",
    "    ]\n",
    ")\n",
    "fft_grid = grid.fft()\n",
    "fft_grid"
   ]
  },
  {
   "cell_type": "code",
   "execution_count": 16,
   "id": "e6e6ad8c-50a5-4f9b-904f-ba3ca4478e60",
   "metadata": {},
   "outputs": [
    {
     "data": {
      "image/png": "[encoded data removed]",
      "text/plain": [
       "<Figure size 432x288 with 1 Axes>"
      ]
     },
     "metadata": {
      "needs_background": "light"
     },
     "output_type": "display_data"
    }
   ],
   "source": [
    "fig, ax = plt.subplots()\n",
    "\n",
    "im = ax.imshow(\n",
    "    np.transpose(fft_grid.to_dask()), \n",
    "    extent=(\n",
    "        np.min(fft_grid.axes[0].to_dask()),\n",
    "        np.max(fft_grid.axes[0].to_dask()),\n",
    "        np.min(fft_grid.axes[1].to_dask()),\n",
    "        np.max(fft_grid.axes[1].to_dask())\n",
    "    ),\n",
    "    origin=\"lower\",\n",
    ")\n",
    "ax.set_xlim(-3, 3)\n",
    "ax.set_ylim(-3, 3)\n",
    "\n",
    "ax.set_xlabel(f\"${fft_grid.axes[0].label}$ [${fft_grid.axes[0].unit}$]\")\n",
    "ax.set_ylabel(f\"${fft_grid.axes[1].label}$ [${fft_grid.axes[1].unit}$]\")\n",
    "\n",
    "fig.show()"
   ]
  },
  {
   "cell_type": "code",
   "execution_count": 17,
   "id": "8bea2da8-438c-44ce-9e54-34866a242dbb",
   "metadata": {},
   "outputs": [
    {
     "data": {
      "image/png": "[encoded data removed]",
      "text/plain": [
       "<Figure size 432x288 with 1 Axes>"
      ]
     },
     "metadata": {
      "needs_background": "light"
     },
     "output_type": "display_data"
    }
   ],
   "source": [
    "fig, ax = plt.subplots()\n",
    "\n",
    "ax.plot(fft_grid.axes[1].to_dask(), fft_grid.to_dask()[50, :])\n",
    "ax.set_xlim((-3, 3))\n",
    "ax.axvline(+2, c=\"k\", ls=\"--\")\n",
    "ax.axvline(-2, c=\"k\", ls=\"--\")\n",
    "fig.show()"
   ]
  },
  {
   "cell_type": "code",
   "execution_count": 18,
   "id": "36fd8ebf-1c1c-4f3c-97bf-0c1e0b3f3422",
   "metadata": {},
   "outputs": [
    {
     "data": {
      "image/png": "[encoded data removed]",
      "text/plain": [
       "<Figure size 432x288 with 1 Axes>"
      ]
     },
     "metadata": {
      "needs_background": "light"
     },
     "output_type": "display_data"
    }
   ],
   "source": [
    "fig, ax = plt.subplots()\n",
    "\n",
    "ax.plot(fft_grid.axes[0].to_dask(), fft_grid.to_dask()[:, 100])\n",
    "ax.set_xlim((-3, 3))\n",
    "ax.axvline(+1, c=\"k\", ls=\"--\")\n",
    "ax.axvline(-1, c=\"k\", ls=\"--\")\n",
    "fig.show()"
   ]
  },
  {
   "cell_type": "markdown",
   "id": "4d1ff1be-058d-4416-82ec-b0e221e47f8c",
   "metadata": {},
   "source": [
    "If `axes` is provided, the FFT is only computed over the identified grid axes. Both strings (corresponding to axes names) and integers can be provided in `axes`."
   ]
  },
  {
   "cell_type": "code",
   "execution_count": 19,
   "id": "718d38fa-7912-46be-8571-f3f83e51729a",
   "metadata": {},
   "outputs": [
    {
     "data": {
      "text/markdown": [
       "\n",
       "| **GridArray** | |\n",
       "| ---: | :--- |\n",
       "| **name**  | dataset |\n",
       "| **label** | |unlabeled| |\n",
       "| **unit**  | '' |\n",
       "| **shape** | (101, 201) |\n",
       "| **dtype** | float64 |\n",
       "| **time**  | 0.0 |\n",
       "| **axes**  | Axis(x1), Axis(k_x2) |\n",
       "\n"
      ],
      "text/plain": [
       "GridArray<shape=(101, 201), dtype=float64, time=0.0, axes=(Axis(x1), Axis(k_x2))>"
      ]
     },
     "execution_count": 19,
     "metadata": {},
     "output_type": "execute_result"
    }
   ],
   "source": [
    "fft_grid = grid.fft(axes=[\"x2\"])\n",
    "fft_grid"
   ]
  },
  {
   "cell_type": "code",
   "execution_count": 20,
   "id": "32cb35d2-b28d-4f08-8630-3f7935e50273",
   "metadata": {},
   "outputs": [
    {
     "data": {
      "image/png": "[encoded data removed]",
      "text/plain": [
       "<Figure size 432x288 with 1 Axes>"
      ]
     },
     "metadata": {
      "needs_background": "light"
     },
     "output_type": "display_data"
    }
   ],
   "source": [
    "fig, ax = plt.subplots()\n",
    "\n",
    "im = ax.imshow(\n",
    "    np.transpose(fft_grid.to_numpy()), \n",
    "    extent=(\n",
    "        np.min(fft_grid.axes[0].to_dask()),\n",
    "        np.max(fft_grid.axes[0].to_dask()),\n",
    "        np.min(fft_grid.axes[1].to_dask()),\n",
    "        np.max(fft_grid.axes[1].to_dask())\n",
    "    ),\n",
    "    origin=\"lower\",\n",
    ")\n",
    "ax.set_ylim(-3, 3)\n",
    "\n",
    "ax.set_xlabel(f\"${fft_grid.axes[0].label}$ [${fft_grid.axes[0].unit}$]\")\n",
    "ax.set_ylabel(f\"${fft_grid.axes[1].label}$ [${fft_grid.axes[1].unit}$]\")\n",
    "\n",
    "fig.show()"
   ]
  },
  {
   "cell_type": "code",
   "execution_count": 21,
   "id": "61e8c409-b326-4206-a156-607fd31ef84e",
   "metadata": {},
   "outputs": [
    {
     "data": {
      "text/markdown": [
       "\n",
       "| **GridDataset** | |\n",
       "| ---: | :--- |\n",
       "| **name**  | dataset |\n",
       "| **label** | |S| |\n",
       "| **unit**  | A |\n",
       "| **shape** | (3, 101) |\n",
       "| **dtype** | float64 |\n",
       "| **time**  | [0. 0. 0.] |\n",
       "| **axes**  | Axis(time), Axis(k_x1) |\n",
       "\n"
      ],
      "text/plain": [
       "GridDataset<shape=(3, 101), dtype=float64, time=[0. 0. 0.], axes=(Axis(time), Axis(k_x1))>"
      ]
     },
     "execution_count": 21,
     "metadata": {},
     "output_type": "execute_result"
    }
   ],
   "source": [
    "time = np.arange(3)\n",
    "x = np.linspace(0, 10*np.pi, 101)\n",
    "\n",
    "grid = GridDataset.from_array(\n",
    "    [np.sin(x), np.sin(2*x), np.sin(3*x)],\n",
    "    name=\"dataset\",\n",
    "    label=\"S\",\n",
    "    unit=\"A\",\n",
    "    axes=[\n",
    "        Axis(time),\n",
    "        Axis(np.tile(x, (3, 1)), name=\"x1\", label=\"x_1\", unit=\"a\")\n",
    "    ]\n",
    ")\n",
    "fft_grid = grid.fft(comp=\"abs\")\n",
    "fft_grid"
   ]
  },
  {
   "cell_type": "code",
   "execution_count": 22,
   "id": "5c1d683a-3dde-47ec-830e-393e949d9258",
   "metadata": {},
   "outputs": [
    {
     "data": {
      "image/png": "[encoded data removed]",
      "text/plain": [
       "<Figure size 432x288 with 1 Axes>"
      ]
     },
     "metadata": {
      "needs_background": "light"
     },
     "output_type": "display_data"
    }
   ],
   "source": [
    "fig, ax = plt.subplots()\n",
    "\n",
    "for fft_grid_i in fft_grid:\n",
    "    ax.plot(fft_grid_i.axes[0].to_dask(), fft_grid_i.to_dask())\n",
    "ax.set_xlim((-4, 4))\n",
    "ax.set_xlabel(f\"${fft_grid.axes[1].label}$ [${fft_grid.axes[1].unit}$]\")\n",
    "ax.set_ylabel(f\"${fft_grid.label}$ [${fft_grid.unit}$]\")\n",
    "ax.axvline(+1, c=\"k\", ls=\"--\")\n",
    "ax.axvline(-1, c=\"k\", ls=\"--\")\n",
    "fig.show()"
   ]
  },
  {
   "cell_type": "code",
   "execution_count": null,
   "id": "73c26baa-54cd-4f85-beb2-cd452c8e0663",
   "metadata": {},
   "outputs": [],
   "source": []
  }
 ],
 "metadata": {
  "kernelspec": {
   "display_name": "Python 3",
   "language": "python",
   "name": "python3"
  },
  "language_info": {
   "codemirror_mode": {
    "name": "ipython",
    "version": 3
   },
   "file_extension": ".py",
   "mimetype": "text/x-python",
   "name": "python",
   "nbconvert_exporter": "python",
   "pygments_lexer": "ipython3",
   "version": "3.8.9"
  }
 },
 "nbformat": 4,
 "nbformat_minor": 5
}
