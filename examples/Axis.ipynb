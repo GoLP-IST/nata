{
 "cells": [
  {
   "cell_type": "markdown",
   "id": "integral-bullet",
   "metadata": {},
   "source": [
    "# The `Axis` object"
   ]
  },
  {
   "cell_type": "code",
   "execution_count": 1,
   "id": "violent-framework",
   "metadata": {},
   "outputs": [],
   "source": [
    "from nata.containers import Axis\n",
    "import numpy as np"
   ]
  },
  {
   "cell_type": "code",
   "execution_count": 2,
   "id": "resistant-lightweight",
   "metadata": {},
   "outputs": [
    {
     "data": {
      "text/html": [
       "<details open><summary>Axis</summary><table style='margin-left: 1rem;'><tr><td style='font-weight: bold; text-align: left;'>name</td><td style='text-align: left;'>unnamed</td></tr><tr><td style='font-weight: bold; text-align: left;'>label</td><td style='text-align: left;'>unlabeled</td></tr><tr><td style='font-weight: bold; text-align: left;'>unit</td><td style='text-align: left;'>''</td></tr><tr><td style='font-weight: bold; text-align: left;'>ndim</td><td style='text-align: left;'>1</td></tr><tr><td style='font-weight: bold; text-align: left;'>shape</td><td style='text-align: left;'>(3,)</td></tr><tr><td style='font-weight: bold; text-align: left;'>dtype</td><td style='text-align: left;'>int64</td></tr></table></details>"
      ],
      "text/plain": [
       "Axis(name='unnamed', label='unlabeled', unit='')"
      ]
     },
     "execution_count": 2,
     "metadata": {},
     "output_type": "execute_result"
    }
   ],
   "source": [
    "axis = Axis([1, 2, 3])\n",
    "axis"
   ]
  },
  {
   "cell_type": "code",
   "execution_count": 3,
   "id": "historical-caution",
   "metadata": {},
   "outputs": [
    {
     "data": {
      "text/html": [
       "<details open><summary>Axis</summary><table style='margin-left: 1rem;'><tr><td style='font-weight: bold; text-align: left;'>name</td><td style='text-align: left;'>new_name</td></tr><tr><td style='font-weight: bold; text-align: left;'>label</td><td style='text-align: left;'>new label</td></tr><tr><td style='font-weight: bold; text-align: left;'>unit</td><td style='text-align: left;'>new unit</td></tr><tr><td style='font-weight: bold; text-align: left;'>ndim</td><td style='text-align: left;'>1</td></tr><tr><td style='font-weight: bold; text-align: left;'>shape</td><td style='text-align: left;'>(3,)</td></tr><tr><td style='font-weight: bold; text-align: left;'>dtype</td><td style='text-align: left;'>int64</td></tr></table></details>"
      ],
      "text/plain": [
       "Axis(name='new_name', label='new label', unit='new unit')"
      ]
     },
     "execution_count": 3,
     "metadata": {},
     "output_type": "execute_result"
    }
   ],
   "source": [
    "axis = Axis([1, 2, 3], name=\"new_name\", label=\"new label\", unit=\"new unit\")\n",
    "axis"
   ]
  },
  {
   "cell_type": "code",
   "execution_count": 4,
   "id": "social-neighbor",
   "metadata": {},
   "outputs": [
    {
     "data": {
      "text/html": [
       "<details open><summary>Axis</summary><table style='margin-left: 1rem;'><tr><td style='font-weight: bold; text-align: left;'>name</td><td style='text-align: left;'>other_new_name</td></tr><tr><td style='font-weight: bold; text-align: left;'>label</td><td style='text-align: left;'>other new label</td></tr><tr><td style='font-weight: bold; text-align: left;'>unit</td><td style='text-align: left;'>other new unit</td></tr><tr><td style='font-weight: bold; text-align: left;'>ndim</td><td style='text-align: left;'>1</td></tr><tr><td style='font-weight: bold; text-align: left;'>shape</td><td style='text-align: left;'>(3,)</td></tr><tr><td style='font-weight: bold; text-align: left;'>dtype</td><td style='text-align: left;'>int64</td></tr></table></details>"
      ],
      "text/plain": [
       "Axis(name='other_new_name', label='other new label', unit='other new unit')"
      ]
     },
     "execution_count": 4,
     "metadata": {},
     "output_type": "execute_result"
    }
   ],
   "source": [
    "axis.name = \"other_new_name\"\n",
    "axis.label = \"other new label\"\n",
    "axis.unit = \"other new unit\"\n",
    "axis"
   ]
  },
  {
   "cell_type": "code",
   "execution_count": 5,
   "id": "surprised-patient",
   "metadata": {},
   "outputs": [
    {
     "data": {
      "text/html": [
       "<table>\n",
       "<tr>\n",
       "<td>\n",
       "<table>\n",
       "  <thead>\n",
       "    <tr><td> </td><th> Array </th><th> Chunk </th></tr>\n",
       "  </thead>\n",
       "  <tbody>\n",
       "    <tr><th> Bytes </th><td> 24 B </td> <td> 24 B </td></tr>\n",
       "    <tr><th> Shape </th><td> (3,) </td> <td> (3,) </td></tr>\n",
       "    <tr><th> Count </th><td> 1 Tasks </td><td> 1 Chunks </td></tr>\n",
       "    <tr><th> Type </th><td> int64 </td><td> numpy.ndarray </td></tr>\n",
       "  </tbody>\n",
       "</table>\n",
       "</td>\n",
       "<td>\n",
       "<svg width=\"170\" height=\"93\" style=\"stroke:rgb(0,0,0);stroke-width:1\" >\n",
       "\n",
       "  <!-- Horizontal lines -->\n",
       "  <line x1=\"0\" y1=\"0\" x2=\"120\" y2=\"0\" style=\"stroke-width:2\" />\n",
       "  <line x1=\"0\" y1=\"43\" x2=\"120\" y2=\"43\" style=\"stroke-width:2\" />\n",
       "\n",
       "  <!-- Vertical lines -->\n",
       "  <line x1=\"0\" y1=\"0\" x2=\"0\" y2=\"43\" style=\"stroke-width:2\" />\n",
       "  <line x1=\"120\" y1=\"0\" x2=\"120\" y2=\"43\" style=\"stroke-width:2\" />\n",
       "\n",
       "  <!-- Colored Rectangle -->\n",
       "  <polygon points=\"0.0,0.0 120.0,0.0 120.0,43.88583450710766 0.0,43.88583450710766\" style=\"fill:#ECB172A0;stroke-width:0\"/>\n",
       "\n",
       "  <!-- Text -->\n",
       "  <text x=\"60.000000\" y=\"63.885835\" font-size=\"1.0rem\" font-weight=\"100\" text-anchor=\"middle\" >3</text>\n",
       "  <text x=\"140.000000\" y=\"21.942917\" font-size=\"1.0rem\" font-weight=\"100\" text-anchor=\"middle\" transform=\"rotate(0,140.000000,21.942917)\">1</text>\n",
       "</svg>\n",
       "</td>\n",
       "</tr>\n",
       "</table>"
      ],
      "text/plain": [
       "dask.array<array, shape=(3,), dtype=int64, chunksize=(3,), chunktype=numpy.ndarray>"
      ]
     },
     "execution_count": 5,
     "metadata": {},
     "output_type": "execute_result"
    }
   ],
   "source": [
    "axis.as_dask()"
   ]
  },
  {
   "cell_type": "code",
   "execution_count": 6,
   "id": "signed-somerset",
   "metadata": {},
   "outputs": [
    {
     "data": {
      "text/plain": [
       "array([1, 2, 3])"
      ]
     },
     "execution_count": 6,
     "metadata": {},
     "output_type": "execute_result"
    }
   ],
   "source": [
    "axis.as_numpy()"
   ]
  },
  {
   "cell_type": "code",
   "execution_count": 7,
   "id": "intended-medline",
   "metadata": {},
   "outputs": [
    {
     "data": {
      "text/plain": [
       "1"
      ]
     },
     "execution_count": 7,
     "metadata": {},
     "output_type": "execute_result"
    }
   ],
   "source": [
    "len(axis)"
   ]
  },
  {
   "cell_type": "code",
   "execution_count": 8,
   "id": "floating-arabic",
   "metadata": {},
   "outputs": [
    {
     "data": {
      "text/plain": [
       "array([1, 2, 3])"
      ]
     },
     "execution_count": 8,
     "metadata": {},
     "output_type": "execute_result"
    }
   ],
   "source": [
    "axis = Axis([1, 2, 3], has_appendable_dim=True)\n",
    "axis.as_numpy()"
   ]
  },
  {
   "cell_type": "code",
   "execution_count": 9,
   "id": "chief-lounge",
   "metadata": {},
   "outputs": [
    {
     "data": {
      "text/plain": [
       "3"
      ]
     },
     "execution_count": 9,
     "metadata": {},
     "output_type": "execute_result"
    }
   ],
   "source": [
    "len(axis)"
   ]
  },
  {
   "cell_type": "code",
   "execution_count": 10,
   "id": "numeric-river",
   "metadata": {},
   "outputs": [
    {
     "data": {
      "text/plain": [
       "array(0)"
      ]
     },
     "execution_count": 10,
     "metadata": {},
     "output_type": "execute_result"
    }
   ],
   "source": [
    "axis = Axis(0)\n",
    "axis.as_numpy()"
   ]
  },
  {
   "cell_type": "code",
   "execution_count": 11,
   "id": "interpreted-bunch",
   "metadata": {},
   "outputs": [
    {
     "data": {
      "text/plain": [
       "array([0, 1])"
      ]
     },
     "execution_count": 11,
     "metadata": {},
     "output_type": "execute_result"
    }
   ],
   "source": [
    "axis.append(1)\n",
    "axis.as_numpy()"
   ]
  },
  {
   "cell_type": "code",
   "execution_count": 12,
   "id": "protecting-senate",
   "metadata": {},
   "outputs": [
    {
     "data": {
      "text/plain": [
       "array([[3, 4, 5],\n",
       "       [6, 7, 8]])"
      ]
     },
     "execution_count": 12,
     "metadata": {},
     "output_type": "execute_result"
    }
   ],
   "source": [
    "axis = Axis(np.arange(12).reshape((4, 3)), has_appendable_dim=True)\n",
    "axis[1:3].as_numpy()"
   ]
  },
  {
   "cell_type": "code",
   "execution_count": 13,
   "id": "floral-association",
   "metadata": {},
   "outputs": [
    {
     "data": {
      "text/plain": [
       "array([[ 0. ,  0.1,  0.2,  0.3,  0.4,  0.5,  0.6,  0.7,  0.8,  0.9,  1. ],\n",
       "       [ 1. ,  1.1,  1.2,  1.3,  1.4,  1.5,  1.6,  1.7,  1.8,  1.9,  2. ],\n",
       "       [ 2. ,  2.1,  2.2,  2.3,  2.4,  2.5,  2.6,  2.7,  2.8,  2.9,  3. ],\n",
       "       [ 3. ,  3.1,  3.2,  3.3,  3.4,  3.5,  3.6,  3.7,  3.8,  3.9,  4. ],\n",
       "       [ 4. ,  4.1,  4.2,  4.3,  4.4,  4.5,  4.6,  4.7,  4.8,  4.9,  5. ],\n",
       "       [ 5. ,  5.1,  5.2,  5.3,  5.4,  5.5,  5.6,  5.7,  5.8,  5.9,  6. ],\n",
       "       [ 6. ,  6.1,  6.2,  6.3,  6.4,  6.5,  6.6,  6.7,  6.8,  6.9,  7. ],\n",
       "       [ 7. ,  7.1,  7.2,  7.3,  7.4,  7.5,  7.6,  7.7,  7.8,  7.9,  8. ],\n",
       "       [ 8. ,  8.1,  8.2,  8.3,  8.4,  8.5,  8.6,  8.7,  8.8,  8.9,  9. ],\n",
       "       [ 9. ,  9.1,  9.2,  9.3,  9.4,  9.5,  9.6,  9.7,  9.8,  9.9, 10. ]])"
      ]
     },
     "execution_count": 13,
     "metadata": {},
     "output_type": "execute_result"
    }
   ],
   "source": [
    "axis = Axis.from_limits(0, 1, 11)\n",
    "\n",
    "for i in range(1, 10):\n",
    "    axis.append(Axis.from_limits(i, 1 + i, 11))\n",
    "    \n",
    "axis.as_numpy()"
   ]
  },
  {
   "cell_type": "code",
   "execution_count": 14,
   "id": "respective-abraham",
   "metadata": {},
   "outputs": [
    {
     "data": {
      "text/plain": [
       "array([0. , 0.1, 0.2, 0.3, 0.4, 0.5, 0.6, 0.7, 0.8, 0.9, 1. ])"
      ]
     },
     "execution_count": 14,
     "metadata": {},
     "output_type": "execute_result"
    }
   ],
   "source": [
    "axis = (Axis.from_limits(0, 1, 11))\n",
    "axis.as_numpy()"
   ]
  },
  {
   "cell_type": "code",
   "execution_count": 15,
   "id": "driven-cattle",
   "metadata": {},
   "outputs": [
    {
     "data": {
      "text/plain": [
       "array([0, 1, 2, 3])"
      ]
     },
     "execution_count": 15,
     "metadata": {},
     "output_type": "execute_result"
    }
   ],
   "source": [
    "axis = np.concatenate((Axis([0, 1]), Axis([2, 3])))\n",
    "axis.as_numpy()"
   ]
  }
 ],
 "metadata": {
  "kernelspec": {
   "display_name": "Python 3",
   "language": "python",
   "name": "python3"
  },
  "language_info": {
   "codemirror_mode": {
    "name": "ipython",
    "version": 3
   },
   "file_extension": ".py",
   "mimetype": "text/x-python",
   "name": "python",
   "nbconvert_exporter": "python",
   "pygments_lexer": "ipython3",
   "version": "3.8.9"
  }
 },
 "nbformat": 4,
 "nbformat_minor": 5
}
