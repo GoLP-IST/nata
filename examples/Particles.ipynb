{
 "cells": [
  {
   "cell_type": "code",
   "execution_count": 1,
   "id": "7bc85c22-b0bc-4e6f-a32e-503f4b1b33b7",
   "metadata": {},
   "outputs": [],
   "source": [
    "from nata import examples\n",
    "from nata import ParticleArray"
   ]
  },
  {
   "cell_type": "code",
   "execution_count": 2,
   "id": "7281b572-6a93-4a81-8d10-70d1ccfb5553",
   "metadata": {},
   "outputs": [
    {
     "data": {
      "text/markdown": [
       "\n",
       "| **ParticleArray** | |\n",
       "| ---: | :--- |\n",
       "| **name**       | left |\n",
       "| **label**      | left |\n",
       "| **count**      | 60000 |\n",
       "| **shape**      | (60000,) |\n",
       "| **dtype**      | [('x1', '<f4'), ('p1', '<f4'), ('p2', '<f4'), ('p3', '<f4'), ('ene', '<f4'), ('q', '<f4')] |\n",
       "| **quantities** | ('x1', 'p1', 'p2', 'p3', 'ene', 'q') |\n",
       "| **time**       | 0.0 |\n",
       "\n"
      ],
      "text/plain": [
       "ParticleArray<quantities=('x1', 'p1', 'p2', 'p3', 'ene', 'q'), dtype=[('x1', '<f4'), ('p1', '<f4'), ('p2', '<f4'), ('p3', '<f4'), ('ene', '<f4'), ('q', '<f4')], time=0.0>"
      ]
     },
     "execution_count": 2,
     "metadata": {},
     "output_type": "execute_result"
    }
   ],
   "source": [
    "ParticleArray.from_path(examples.particles / \"left-0.h5\")"
   ]
  },
  {
   "cell_type": "code",
   "execution_count": 3,
   "id": "4f6c6fc7-0f48-448d-a0c6-b8912c41e64b",
   "metadata": {},
   "outputs": [
    {
     "data": {
      "text/plain": [
       "array([(1.0474771e-04, -0.19980146, -6.6734350e-04, -5.5170170e-04, 0.01976535, -0.002),\n",
       "       (3.1425059e-04, -0.1990092 ,  5.2715035e-04, -7.5011153e-04, 0.01961046, -0.002),\n",
       "       (5.2374974e-04, -0.20108084, -4.7303070e-04,  1.9387898e-04, 0.02001655, -0.002),\n",
       "       ...,\n",
       "       (1.2569476e+01, -0.19883052, -2.5628370e-04,  6.4110689e-05, 0.01957523, -0.002),\n",
       "       (1.2569686e+01, -0.20064595,  9.4792325e-05, -6.5560639e-04, 0.019931  , -0.002),\n",
       "       (1.2569895e+01, -0.20035784,  4.2526957e-04,  5.4939697e-04, 0.01987438, -0.002)],\n",
       "      dtype=[('x1', '<f4'), ('p1', '<f4'), ('p2', '<f4'), ('p3', '<f4'), ('ene', '<f4'), ('q', '<f4')])"
      ]
     },
     "execution_count": 3,
     "metadata": {},
     "output_type": "execute_result"
    }
   ],
   "source": [
    "ParticleArray.from_path(examples.particles / \"left-0.h5\").to_numpy()"
   ]
  }
 ],
 "metadata": {
  "kernelspec": {
   "display_name": "Python 3",
   "language": "python",
   "name": "python3"
  },
  "language_info": {
   "codemirror_mode": {
    "name": "ipython",
    "version": 3
   },
   "file_extension": ".py",
   "mimetype": "text/x-python",
   "name": "python",
   "nbconvert_exporter": "python",
   "pygments_lexer": "ipython3",
   "version": "3.8.10"
  }
 },
 "nbformat": 4,
 "nbformat_minor": 5
}
